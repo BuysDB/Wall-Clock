{
 "cells": [
  {
   "cell_type": "code",
   "execution_count": 4,
   "metadata": {},
   "outputs": [
    {
     "ename": "ModuleNotFoundError",
     "evalue": "No module named '__main__.__init__'; '__main__' is not a package",
     "output_type": "error",
     "traceback": [
      "\u001b[0;31m---------------------------------------------------------------------------\u001b[0m",
      "\u001b[0;31mModuleNotFoundError\u001b[0m                       Traceback (most recent call last)",
      "\u001b[0;32m<ipython-input-4-1d4cb111a3a1>\u001b[0m in \u001b[0;36m<module>\u001b[0;34m\u001b[0m\n\u001b[0;32m----> 1\u001b[0;31m \u001b[0;32mfrom\u001b[0m \u001b[0;34m.\u001b[0m\u001b[0m__init__\u001b[0m \u001b[0;32mimport\u001b[0m \u001b[0mrgb_to_hsv\u001b[0m\u001b[0;34m\u001b[0m\u001b[0;34m\u001b[0m\u001b[0m\n\u001b[0m",
      "\u001b[0;31mModuleNotFoundError\u001b[0m: No module named '__main__.__init__'; '__main__' is not a package"
     ]
    }
   ],
   "source": [
    "from .__init__ import rgb_to_hsv"
   ]
  },
  {
   "cell_type": "code",
   "execution_count": 5,
   "metadata": {},
   "outputs": [],
   "source": [
    "def hsv_to_rgb(h, s, v):\n",
    "    if s == 0.0:\n",
    "        return v, v, v\n",
    "    i = int(h*6.0) # XXX assume int() truncates!\n",
    "    f = (h*6.0) - i\n",
    "    p = v*(1.0 - s)\n",
    "    q = v*(1.0 - s*f)\n",
    "    t = v*(1.0 - s*(1.0-f))\n",
    "    i = i%6\n",
    "    if i == 0:\n",
    "        return v, t, p\n",
    "    if i == 1:\n",
    "        return q, v, p\n",
    "    if i == 2:\n",
    "        return p, v, t\n",
    "    if i == 3:\n",
    "        return p, q, v\n",
    "    if i == 4:\n",
    "        return t, p, v\n",
    "    if i == 5:\n",
    "        return v, p, q\n",
    "    # Cannot get here"
   ]
  },
  {
   "cell_type": "code",
   "execution_count": 7,
   "metadata": {},
   "outputs": [
    {
     "data": {
      "text/plain": [
       "(255, 0.0, 0.0)"
      ]
     },
     "execution_count": 7,
     "metadata": {},
     "output_type": "execute_result"
    }
   ],
   "source": [
    "hsv_to_rgb(1,1,255)"
   ]
  },
  {
   "cell_type": "code",
   "execution_count": 4,
   "metadata": {},
   "outputs": [
    {
     "data": {
      "text/plain": [
       "62"
      ]
     },
     "execution_count": 4,
     "metadata": {},
     "output_type": "execute_result"
    }
   ],
   "source": [
    "### \n",
    "symbol_vect = \\\n",
    "[ 0,\n",
    " 1, 1,\n",
    "  0,\n",
    " 1, 1,\n",
    "   1]\n",
    "\n",
    "\n",
    "\n",
    "sum([ (2**i) * v for i,v in enumerate(symbol_vect)])"
   ]
  },
  {
   "cell_type": "code",
   "execution_count": 38,
   "metadata": {},
   "outputs": [
    {
     "data": {
      "text/plain": [
       "14"
      ]
     },
     "execution_count": 38,
     "metadata": {},
     "output_type": "execute_result"
    }
   ],
   "source": [
    "21+-7"
   ]
  },
  {
   "cell_type": "code",
   "execution_count": 30,
   "metadata": {},
   "outputs": [],
   "source": [
    "# REV:\n",
    "source_order = [ 0,\n",
    " 1, 2,\n",
    "  3,\n",
    " 4, 5,\n",
    "   6]"
   ]
  },
  {
   "cell_type": "code",
   "execution_count": 31,
   "metadata": {},
   "outputs": [],
   "source": [
    "target_order = [ 5,\n",
    " 6, 4,\n",
    "  3,\n",
    " 2, 0,\n",
    "   1]"
   ]
  },
  {
   "cell_type": "code",
   "execution_count": 32,
   "metadata": {},
   "outputs": [
    {
     "data": {
      "text/plain": [
       "{0: 5, 1: 6, 2: 4, 3: 3, 4: 2, 5: 0, 6: 1}"
      ]
     },
     "execution_count": 32,
     "metadata": {},
     "output_type": "execute_result"
    }
   ],
   "source": [
    "dict(zip(source_order, target_order))"
   ]
  },
  {
   "cell_type": "code",
   "execution_count": 33,
   "metadata": {},
   "outputs": [
    {
     "data": {
      "text/plain": [
       "{0: 1, 1: 2, 2: 0, 3: 3, 4: 6, 5: 4, 6: 5}"
      ]
     },
     "execution_count": 33,
     "metadata": {},
     "output_type": "execute_result"
    }
   ],
   "source": [
    "#FWD\n",
    "target_order = [ 1,\n",
    " 2, 0,\n",
    "  3,\n",
    " 6, 4,\n",
    "   5]\n",
    "dict(zip(source_order, target_order))"
   ]
  },
  {
   "cell_type": "code",
   "execution_count": 43,
   "metadata": {},
   "outputs": [
    {
     "data": {
      "text/plain": [
       "{0: 1, 1: 0, 2: 2, 3: 3, 4: 4, 5: 6, 6: 5}"
      ]
     },
     "execution_count": 43,
     "metadata": {},
     "output_type": "execute_result"
    }
   ],
   "source": [
    "# Small symbol...\n",
    "\n",
    "target_order = [ 1, 0,2,3, 4,6,5]\n",
    "                \n",
    "dict(zip(source_order,[i for i in target_order]))"
   ]
  },
  {
   "cell_type": "code",
   "execution_count": null,
   "metadata": {},
   "outputs": [],
   "source": [
    "# last small symbol\n",
    "target_order = [ 16, 15,17,18, 19,21,20]\n",
    "                \n",
    "dict(zip(source_order,[i-15 for i in target_order]))"
   ]
  },
  {
   "cell_type": "code",
   "execution_count": 9,
   "metadata": {},
   "outputs": [],
   "source": [
    "CHAR_DICT = {0: 119,\n",
    " ' ': 0,\n",
    " 1: 36,\n",
    " 2: 93,\n",
    " 3: 109,\n",
    " 4: 46,\n",
    " 5: 107,\n",
    " 6: 123,\n",
    " 7: 37,\n",
    " 8: 127,\n",
    " 9: 111,\n",
    " 'A': 63,\n",
    " 'B': 127,\n",
    " 'C': 83}"
   ]
  },
  {
   "cell_type": "code",
   "execution_count": 8,
   "metadata": {},
   "outputs": [],
   "source": [
    "def get_character_vect(char):\n",
    "    return  [ (CHAR_DICT[char]  >> i) & 1 for i in range(7) ]"
   ]
  },
  {
   "cell_type": "code",
   "execution_count": 10,
   "metadata": {},
   "outputs": [
    {
     "data": {
      "text/plain": [
       "[0, 0, 1, 0, 0, 1, 0]"
      ]
     },
     "execution_count": 10,
     "metadata": {},
     "output_type": "execute_result"
    }
   ],
   "source": [
    "get_character_vect(1)"
   ]
  },
  {
   "cell_type": "code",
   "execution_count": 171,
   "metadata": {},
   "outputs": [
    {
     "data": {
      "text/plain": [
       "True"
      ]
     },
     "execution_count": 171,
     "metadata": {},
     "output_type": "execute_result"
    }
   ],
   "source": [
    "response[:2]==bytearray([255,134])"
   ]
  },
  {
   "cell_type": "code",
   "execution_count": null,
   "metadata": {},
   "outputs": [],
   "source": [
    "buffer = [ 255, 1, command]+data+[0]\n",
    "# Set checksum:\n",
    "buffer[-1] = 255-(sum(buffer)%256)\n",
    "cmd = bytes(buffer)\n",
    "if uart is None:"
   ]
  },
  {
   "cell_type": "code",
   "execution_count": null,
   "metadata": {},
   "outputs": [],
   "source": [
    "from machine import UART\n",
    "uart_mhz = UART(2, tx=17, rx=16)\n",
    "uart_mhz.init(9600)\n",
    "uart_sds =  UART(1, tx=32, rx=33)\n",
    "uart_sds.init(9600)"
   ]
  },
  {
   "cell_type": "code",
   "execution_count": 173,
   "metadata": {},
   "outputs": [],
   "source": [
    "from ucollections import namedtuple \n",
    "mh_data = namedtuple('MH Z19', ('CO2_PPM','Temp_C','Status','DeltaABC'))\n",
    "\n",
    "def mhz_write_command(uart, command=134, data=[0]*5):\n",
    "    buffer = [ 255, 1, command] + data + [0] # Construct command\n",
    "    buffer[-1] = 255-(sum(buffer)%256) # Set checksum\n",
    "    uart.write(bytes(buffer)) # Send command to sensor\n",
    "    while uart.any()<9 : pass # Wait for response\n",
    "    response = uart.read(9)\n",
    "    if 255-sum(response[:-1])%256!=response[-1]: # Check response checksum\n",
    "        raise ValueError('Invalid CHK')\n",
    "    if bytearray([255,command])!=response[:2]: # Check response header (first two bytes)\n",
    "        raise ValueError('Invalid header')\n",
    "    return response\n",
    "\n",
    "def mhz_get_measurement(uart):\n",
    "    response = write_command(uart)\n",
    "    return mh_data(\n",
    "        response[2]*256 + response[3], # CO2\n",
    "        response[4]-40, # Temp\n",
    "        response[5], # Status\n",
    "        response[6]*256 + response[7], #Uh,Ul\n",
    "    )\n",
    "\n",
    "\n",
    "\n"
   ]
  },
  {
   "cell_type": "code",
   "execution_count": 203,
   "metadata": {},
   "outputs": [],
   "source": [
    "from collections import namedtuple"
   ]
  },
  {
   "attachments": {
    "image.png": {
     "image/png": "[encoded data removed]"
    }
   },
   "cell_type": "markdown",
   "metadata": {},
   "source": [
    "![image.png](attachment:image.png)"
   ]
  },
  {
   "cell_type": "code",
   "execution_count": 215,
   "metadata": {},
   "outputs": [],
   "source": [
    "from math import sqrt\n",
    "\n",
    "def mean_and_var(data):\n",
    "    mean = sum(data) / len(data)\n",
    "    return mean,  sum((i - mean) ** 2 for i in data) / (len(data)-1)\n",
    "\n",
    "sds_data = namedtuple('SDS_data', ('P2d5_PPM','P10_PPM'))\n",
    "sds_data_inc_var = namedtuple('SDS_data', ('P2d5_PPM','P10_PPM','P2d5_std_PPM','P10_std_PPM'))\n",
    "\n",
    "def sds_write_command(uart, command=4, data=[0]*12):\n",
    "    uart.read()\n",
    "    buffer = [170, 180, command] + data + [255,255, 0 , 171] # Construct command (12 byte)\n",
    "    buffer[-2] = (command+sum(data)-2)%256  # Set checksum\n",
    "    uart.write(bytes(buffer)) # Send command to sensor\n",
    "    while uart.any()<10 : pass # Wait for response\n",
    "    response = uart.read(10)\n",
    "    if sum(response[2:8])%256!=response[-2]: # Check response checksum\n",
    "        raise ValueError('Invalid CHK')\n",
    "    if response[0]!=170 or response[-1]!=171: # Check response header (first byte)\n",
    "        raise ValueError('Invalid header')\n",
    "    return response\n",
    "\n",
    "\n",
    "def sds_burst(uart, n_samples=10):\n",
    "    # Wake:\n",
    "    sds_write_command(uart, command=6,  data=[1, 1]+[0]*10)\n",
    "    #Wait\n",
    "    utime.sleep(2)\n",
    "    # gather\n",
    "    P2d5_data, P10_data = [], []\n",
    "    for i in range(n_samples):\n",
    "        r = sds_get_single_measurement(uart)\n",
    "        P2d5_data.append(r.P2d5_PPM)\n",
    "        P10_data.append(r.P10_PPM)\n",
    "        utime.sleep(1)\n",
    "        \n",
    "    P2d5, P2d5_var =  mean_and_var(P2d5_data)\n",
    "    P10, P10_var =  mean_and_var(P10_data)\n",
    "    # end\n",
    "    sds_write_command(uart, command=6,  data=[1, 0]+[0]*10)\n",
    "    return sds_data_inc_var( P2d5,P10, sqrt(P2d5_var), sqrt(P10_var) )\n",
    "\n",
    "def sds_get_single_measurement(uart):\n",
    "    response = sds_write_command(uart)\n",
    "    return sds_data(\n",
    "        response[3]*256 + response[2]/10, # PM 2.5\n",
    "        response[5]*256 + response[4]/10, # PM 10\n",
    "    )\n"
   ]
  },
  {
   "cell_type": "code",
   "execution_count": 222,
   "metadata": {},
   "outputs": [
    {
     "data": {
      "text/plain": [
       "0.8"
      ]
     },
     "execution_count": 222,
     "metadata": {},
     "output_type": "execute_result"
    }
   ],
   "source": [
    "response = b'\\xaa\\xc0\\x08\\x00\\x1f\\x00\\x8cp#\\xab'\n"
   ]
  },
  {
   "cell_type": "code",
   "execution_count": 235,
   "metadata": {},
   "outputs": [
    {
     "data": {
      "text/plain": [
       "False"
      ]
     },
     "execution_count": 235,
     "metadata": {},
     "output_type": "execute_result"
    }
   ],
   "source": [
    "is_set(2,0)"
   ]
  },
  {
   "cell_type": "code",
   "execution_count": 237,
   "metadata": {},
   "outputs": [
    {
     "data": {
      "text/plain": [
       "170"
      ]
     },
     "execution_count": 237,
     "metadata": {},
     "output_type": "execute_result"
    }
   ],
   "source": [
    "\n",
    "while True:\n",
    "    start= utime.ticks_us()\n",
    "    for i,byte in enumerate(to_send):\n",
    "\n",
    "        for ib,bit in enumerate(bits(byte)):\n",
    "\n",
    "            if bit:\n",
    "                output_pin.on()\n",
    "            else:\n",
    "                output_pin.off()\n",
    "\n",
    "            # Leave the bit in its state for a while:\n",
    "            end_time = utime.ticks_add( start, i*clock_time_us*8+clock_time_us*ib)\n",
    "            while utime.ticks_diff(end_time, utime.ticks_us())>=0:\n",
    "                \n",
    "                pass\n",
    "\n",
    "                \n",
    "                \n",
    "    output_pin.off()\n",
    "    utime.sleep_ms(40)"
   ]
  },
  {
   "cell_type": "code",
   "execution_count": 253,
   "metadata": {},
   "outputs": [
    {
     "data": {
      "text/plain": [
       "24"
      ]
     },
     "execution_count": 253,
     "metadata": {},
     "output_type": "execute_result"
    }
   ],
   "source": [
    "\n",
    "len([i*clock_time_us*8+clock_time_us*ib for i in range(3) for ib in range(8)])"
   ]
  },
  {
   "cell_type": "code",
   "execution_count": 263,
   "metadata": {},
   "outputs": [],
   "source": [
    "import struct\n",
    "q = bytearray(struct.pack(\"f\", -0.1))\n",
    "msg = [int(i) for i in q]"
   ]
  },
  {
   "cell_type": "code",
   "execution_count": 267,
   "metadata": {},
   "outputs": [
    {
     "data": {
      "text/plain": [
       "34"
      ]
     },
     "execution_count": 267,
     "metadata": {},
     "output_type": "execute_result"
    }
   ],
   "source": []
  },
  {
   "cell_type": "code",
   "execution_count": 233,
   "metadata": {},
   "outputs": [
    {
     "ename": "ModuleNotFoundError",
     "evalue": "No module named 'machine'",
     "output_type": "error",
     "traceback": [
      "\u001b[0;31m---------------------------------------------------------------------------\u001b[0m",
      "\u001b[0;31mModuleNotFoundError\u001b[0m                       Traceback (most recent call last)",
      "\u001b[0;32m<ipython-input-233-5be28c87b8b9>\u001b[0m in \u001b[0;36m<module>\u001b[0;34m\u001b[0m\n\u001b[0;32m----> 1\u001b[0;31m \u001b[0;32mfrom\u001b[0m \u001b[0mmachine\u001b[0m \u001b[0;32mimport\u001b[0m \u001b[0mPin\u001b[0m\u001b[0;34m\u001b[0m\u001b[0;34m\u001b[0m\u001b[0m\n\u001b[0m\u001b[1;32m      2\u001b[0m \u001b[0;32mimport\u001b[0m \u001b[0mutime\u001b[0m\u001b[0;34m\u001b[0m\u001b[0;34m\u001b[0m\u001b[0m\n\u001b[1;32m      3\u001b[0m \u001b[0;34m\u001b[0m\u001b[0m\n\u001b[1;32m      4\u001b[0m \u001b[0;34m\u001b[0m\u001b[0m\n\u001b[1;32m      5\u001b[0m \u001b[0moutput_pin\u001b[0m \u001b[0;34m=\u001b[0m \u001b[0mPin\u001b[0m\u001b[0;34m(\u001b[0m\u001b[0;36m14\u001b[0m\u001b[0;34m,\u001b[0m\u001b[0mPin\u001b[0m\u001b[0;34m.\u001b[0m\u001b[0mOUT\u001b[0m\u001b[0;34m)\u001b[0m\u001b[0;34m\u001b[0m\u001b[0;34m\u001b[0m\u001b[0m\n",
      "\u001b[0;31mModuleNotFoundError\u001b[0m: No module named 'machine'"
     ]
    }
   ],
   "source": [
    "from machine import Pin\n",
    "import utime\n",
    "\n",
    "def is_set(x, n):\n",
    "    # a more bitwise- and performance-friendly version:\n",
    "    return x & 1 << n != 0\n",
    "\n",
    "def bits(byte):\n",
    "    for i in range(8):\n",
    "        yield is_set(byte, i)\n",
    "        \n",
    "output_pin = Pin(14,Pin.OUT)\n",
    "\n",
    "\n",
    "def send_int_list(to_send,clock_time_us=5000):\n",
    "        \n",
    "    for i,byte in enumerate(to_send):\n",
    "        \n",
    "        for ib,bit in enumerate(bits(byte)):\n",
    "            if bit:\n",
    "                output_pin.on()\n",
    "                last=True\n",
    "            else:\n",
    "                output_pin.off()\n",
    "                last=False\n",
    "            utime.sleep_us(clock_time_us)\n",
    "            \n",
    "                \n",
    "                \n",
    "    output_pin.off()\n",
    "    utime.sleep_ms(100)\n",
    "\n",
    "\n",
    "def send_data(device_id, value, clock_time_us=5000): # Every value is 4 words (float)\n",
    "    \n",
    "    q = bytearray(struct.pack(\"f\", value))\n",
    "    msg = [device_id+1] + [int(i) for i in q]\n",
    "    chk = sum(msg)%256\n",
    "    \n",
    "    send_int_list(msg+[chk], clock_time_us=clock_time_us)\n",
    "    \n",
    "\n"
   ]
  },
  {
   "cell_type": "code",
   "execution_count": 270,
   "metadata": {},
   "outputs": [
    {
     "data": {
      "text/plain": [
       "1.539989614439558e-36"
      ]
     },
     "execution_count": 270,
     "metadata": {},
     "output_type": "execute_result"
    }
   ],
   "source": []
  },
  {
   "cell_type": "code",
   "execution_count": null,
   "metadata": {},
   "outputs": [],
   "source": [
    "# timing test\n",
    "now = utime.ticks_us()\n",
    "utime.sleep_ms(40)\n",
    "utime.ticks_diff( utime.ticks_us(), now)"
   ]
  },
  {
   "cell_type": "code",
   "execution_count": 244,
   "metadata": {},
   "outputs": [
    {
     "ename": "ModuleNotFoundError",
     "evalue": "No module named 'machine'",
     "output_type": "error",
     "traceback": [
      "\u001b[0;31m---------------------------------------------------------------------------\u001b[0m",
      "\u001b[0;31mModuleNotFoundError\u001b[0m                       Traceback (most recent call last)",
      "\u001b[0;32m<ipython-input-244-4626713e77bc>\u001b[0m in \u001b[0;36m<module>\u001b[0;34m\u001b[0m\n\u001b[1;32m      1\u001b[0m \u001b[0;31m# Slave:\u001b[0m\u001b[0;34m\u001b[0m\u001b[0;34m\u001b[0m\u001b[0;34m\u001b[0m\u001b[0m\n\u001b[0;32m----> 2\u001b[0;31m \u001b[0;32mfrom\u001b[0m \u001b[0mmachine\u001b[0m \u001b[0;32mimport\u001b[0m \u001b[0mI2C\u001b[0m\u001b[0;34m\u001b[0m\u001b[0;34m\u001b[0m\u001b[0m\n\u001b[0m\u001b[1;32m      3\u001b[0m \u001b[0;32mfrom\u001b[0m \u001b[0mmachine\u001b[0m \u001b[0;32mimport\u001b[0m \u001b[0mPin\u001b[0m\u001b[0;34m\u001b[0m\u001b[0;34m\u001b[0m\u001b[0m\n\u001b[1;32m      4\u001b[0m \u001b[0;32mimport\u001b[0m \u001b[0mutime\u001b[0m\u001b[0;34m\u001b[0m\u001b[0;34m\u001b[0m\u001b[0m\n\u001b[1;32m      5\u001b[0m \u001b[0;34m\u001b[0m\u001b[0m\n",
      "\u001b[0;31mModuleNotFoundError\u001b[0m: No module named 'machine'"
     ]
    }
   ],
   "source": [
    "# Slave:\n",
    "from machine import I2C\n",
    "from machine import Pin\n",
    "import utime\n",
    "import ustruct as struct\n",
    "input_pin = Pin(14,Pin.IN)\n",
    "        \n",
    "def read_bytes(init_time, pin, n, spacing_us=5000):\n",
    "    msg = []\n",
    "    for byte_pos in range(n):\n",
    "        byte = []\n",
    "        for bit in range(8):\n",
    "            # Wait for center bit alignment:\n",
    "            if byte_pos==0 and bit==0:\n",
    "                byte.append(pin.value())\n",
    "                continue\n",
    "\n",
    "            center_pos = int(bit*spacing_us + spacing_us*0.1 + byte_pos*spacing_us*8)\n",
    "            end_time = utime.ticks_add( init_time, center_pos)\n",
    "            while utime.ticks_diff(end_time, utime.ticks_us())>=0:\n",
    "                pass\n",
    "\n",
    "            # Read bit value:\n",
    "            byte.append(pin.value())\n",
    "        msg.append(byte)\n",
    "    return msg\n",
    "        \n",
    "\n",
    "def get_msg(spacing_us=10000, n=10):\n",
    "     # Decode incoming message\n",
    "    zero_start=None\n",
    "    one_start = None\n",
    "    while True:\n",
    "        \n",
    "        if input_pin.value()==0:\n",
    "            if zero_start is None:\n",
    "                zero_start = utime.ticks_us()\n",
    "        else:\n",
    "            if zero_start is not None:\n",
    "                one_start = utime.ticks_us()\n",
    "                dtime =  utime.ticks_diff( one_start, zero_start)\n",
    "\n",
    "                \n",
    "                #if dtime>20:\n",
    "                #    print(dtime)\n",
    "                \n",
    "                if dtime>=38000:\n",
    "                    \n",
    "                    break\n",
    "                \n",
    "                zero_start=None\n",
    "    \n",
    "    msg = read_bytes(one_start, input_pin, n=n, spacing_us=spacing_us)\n",
    "    return msg\n",
    "    \n",
    "    \n",
    "while True:\n",
    "    msg = get_msg(5300, n=6)\n",
    "    int_v = [ sum([2**i*v for i,v in enumerate(byte)]) for byte in msg]\n",
    "    print(int_v)\n",
    "    f = struct.unpack('f',bytearray(int_v[1:5]))\n",
    "    print( int_v[0], f )\n"
   ]
  },
  {
   "cell_type": "code",
   "execution_count": 273,
   "metadata": {},
   "outputs": [
    {
     "data": {
      "text/plain": [
       "3"
      ]
     },
     "execution_count": 273,
     "metadata": {},
     "output_type": "execute_result"
    }
   ],
   "source": []
  },
  {
   "cell_type": "code",
   "execution_count": null,
   "metadata": {},
   "outputs": [],
   "source": [
    "# Slave:\n",
    "from machine import I2C\n",
    "from machine import Pin\n",
    "import utime\n",
    "\n",
    "input_pin = Pin(14,Pin.IN)\n",
    "\n",
    "def read_byte(init_time, pin, byte_pos=0, spacing_us=10000):\n",
    "    \n",
    "    byte = []\n",
    "    for bit in range(8):\n",
    "        # Wait for center bit alignment:\n",
    "        if byte_pos==0 and bit==0:\n",
    "            byte.append(pin.value())\n",
    "            continue\n",
    "        \n",
    "        center_pos = int(bit*spacing_us + spacing_us*0.1 + byte_pos*spacing_us*8)\n",
    "        end_time = utime.ticks_add( init_time, center_pos)\n",
    "        while utime.ticks_diff(end_time, utime.ticks_us())>=0:\n",
    "            pass\n",
    "        \n",
    "        \n",
    "        # Read bit value:\n",
    "        byte.append(pin.value())\n",
    "    \n",
    "    return byte\n",
    "        \n",
    "        \n",
    "def read_bytes(init_time, pin, n, spacing_us=10000):\n",
    "    msg = []\n",
    "    for byte_pos in range(n):\n",
    "        byte = []\n",
    "        for bit in range(8):\n",
    "            # Wait for center bit alignment:\n",
    "            if byte_pos==0 and bit==0:\n",
    "                byte.append(pin.value())\n",
    "                continue\n",
    "\n",
    "            center_pos = int(bit*spacing_us + spacing_us*0.1 + byte_pos*spacing_us*8)\n",
    "            end_time = utime.ticks_add( init_time, center_pos)\n",
    "            while utime.ticks_diff(end_time, utime.ticks_us())>=0:\n",
    "                pass\n",
    "\n",
    "\n",
    "            # Read bit value:\n",
    "            byte.append(pin.value())\n",
    "        msg.append(byte)\n",
    "    return msg\n",
    "        \n",
    "        \n",
    "while True:\n",
    "    \n",
    "    # Decode incoming message\n",
    "    zero_start=None\n",
    "    one_start = None\n",
    "    while True:\n",
    "        \n",
    "        if input_pin.value()==0:\n",
    "            if zero_start is None:\n",
    "                zero_start = utime.ticks_us()\n",
    "        else:\n",
    "            if zero_start is not None:\n",
    "                one_start = utime.ticks_us()\n",
    "                dtime =  utime.ticks_diff( one_start, zero_start)\n",
    "\n",
    "                \n",
    "                #if dtime>20:\n",
    "                #    print(dtime)\n",
    "                \n",
    "                if dtime>=38000:\n",
    "                    \n",
    "                    break\n",
    "                \n",
    "                zero_start=None\n",
    "\n",
    "    # Get current timing\n",
    "\n",
    "    #first_byte = read_byte(one_start, input_pin)\n",
    "    #second_byte = read_byte(one_start, input_pin, 1)\n",
    "    #third_byte = read_byte(one_start, input_pin, 2)\n",
    "    msg = read_bytes(one_start, input_pin, 4)\n",
    "    \n",
    "    if sum(msg[0])!=8: # We are not at the start...\n",
    "        print('Not aligned')\n",
    "        \n",
    "    print(msg)"
   ]
  },
  {
   "cell_type": "code",
   "execution_count": 210,
   "metadata": {},
   "outputs": [],
   "source": [
    "a,b= 0,0\n",
    "r = 1,2\n",
    "\n",
    "a,b = a+r[0],b+r[1]"
   ]
  },
  {
   "cell_type": "code",
   "execution_count": 172,
   "metadata": {
    "scrolled": true
   },
   "outputs": [
    {
     "ename": "KeyboardInterrupt",
     "evalue": "",
     "output_type": "error",
     "traceback": [
      "\u001b[0;31m---------------------------------------------------------------------------\u001b[0m",
      "\u001b[0;31mKeyboardInterrupt\u001b[0m                         Traceback (most recent call last)",
      "\u001b[0;32m<ipython-input-172-2044703700c2>\u001b[0m in \u001b[0;36m<module>\u001b[0;34m\u001b[0m\n\u001b[0;32m----> 1\u001b[0;31m \u001b[0;32mwhile\u001b[0m \u001b[0;32mTrue\u001b[0m \u001b[0;34m:\u001b[0m \u001b[0;32mpass\u001b[0m\u001b[0;34m\u001b[0m\u001b[0;34m\u001b[0m\u001b[0m\n\u001b[0m",
      "\u001b[0;31mKeyboardInterrupt\u001b[0m: "
     ]
    }
   ],
   "source": [
    "The number of bytesNameContent0\n",
    "Message headerAA1Commander No.C02DATA 1PM2.5 Low byte3DATA 2PM2.5 High byte4DATA 3PM10 Low byte5DATA 4PM10 High byte6DATA 5ID byte 17DATA 6ID byte 28Check-sumCheck-sum9Message tailABCheck-sum: Check-sum=DATA1+DATA2+...+DATA6 。"
   ]
  },
  {
   "cell_type": "code",
   "execution_count": 185,
   "metadata": {},
   "outputs": [
    {
     "data": {
      "text/plain": [
       "19"
      ]
     },
     "execution_count": 185,
     "metadata": {},
     "output_type": "execute_result"
    }
   ],
   "source": [
    "len([ int(i) for i in b'\\xaa\\xb4\\x04\\x00\\x00\\x00\\x00\\x00\\x00\\x00\\x00\\x00\\x00\\x00\\x00\\xff\\xff\\x02\\xab'])"
   ]
  },
  {
   "cell_type": "code",
   "execution_count": 199,
   "metadata": {},
   "outputs": [
    {
     "data": {
      "text/plain": [
       "224.0"
      ]
     },
     "execution_count": 199,
     "metadata": {},
     "output_type": "execute_result"
    }
   ],
   "source": [
    "response = b\"\\xaa\\xc0\\x08\\x00#\\x00\\x8cp'\\xab\"\n",
    "\n"
   ]
  },
  {
   "cell_type": "code",
   "execution_count": 151,
   "metadata": {},
   "outputs": [
    {
     "data": {
      "text/plain": [
       "True"
      ]
     },
     "execution_count": 151,
     "metadata": {},
     "output_type": "execute_result"
    }
   ],
   "source": [
    "bytes(buffer)==b'\\xff\\x01\\x86\\x00\\x00\\x00\\x00\\x00\\x79'"
   ]
  },
  {
   "cell_type": "code",
   "execution_count": 150,
   "metadata": {},
   "outputs": [
    {
     "data": {
      "text/plain": [
       "9"
      ]
     },
     "execution_count": 150,
     "metadata": {},
     "output_type": "execute_result"
    }
   ],
   "source": [
    "len(b'\\xff\\x01\\x86\\x00\\x00\\x00\\x00\\x00\\x79' )"
   ]
  },
  {
   "cell_type": "code",
   "execution_count": 137,
   "metadata": {},
   "outputs": [
    {
     "data": {
      "text/plain": [
       "b'0x79'"
      ]
     },
     "execution_count": 137,
     "metadata": {},
     "output_type": "execute_result"
    }
   ],
   "source": [
    "b'\\xff\\x01\\x86\\x00\\x00\\x00\\x00\\x00\\x00y'\n",
    "b'\\xff\\x01\\x86\\x00\\x00\\x00\\x00\\x00\\x79'"
   ]
  },
  {
   "cell_type": "code",
   "execution_count": 141,
   "metadata": {},
   "outputs": [
    {
     "data": {
      "text/plain": [
       "b'yz'"
      ]
     },
     "execution_count": 141,
     "metadata": {},
     "output_type": "execute_result"
    }
   ],
   "source": [
    "bytes([121,122])"
   ]
  },
  {
   "cell_type": "code",
   "execution_count": 126,
   "metadata": {},
   "outputs": [
    {
     "data": {
      "text/plain": [
       "b'yy\\x00'"
      ]
     },
     "execution_count": 126,
     "metadata": {},
     "output_type": "execute_result"
    }
   ],
   "source": [
    "bytes([121,121,0])"
   ]
  },
  {
   "cell_type": "code",
   "execution_count": 58,
   "metadata": {},
   "outputs": [
    {
     "data": {
      "text/plain": [
       "[b'\\xff', b'\\x01', b'\\x86']"
      ]
     },
     "execution_count": 58,
     "metadata": {},
     "output_type": "execute_result"
    }
   ],
   "source": [
    "[b'\\xFF',b'\\x01', command]"
   ]
  },
  {
   "cell_type": "code",
   "execution_count": 201,
   "metadata": {},
   "outputs": [
    {
     "data": {
      "text/plain": [
       "1"
      ]
     },
     "execution_count": 201,
     "metadata": {},
     "output_type": "execute_result"
    }
   ],
   "source": [
    "ord(b'\\x01')"
   ]
  },
  {
   "cell_type": "code",
   "execution_count": null,
   "metadata": {},
   "outputs": [],
   "source": []
  }
 ],
 "metadata": {
  "kernelspec": {
   "display_name": "Python 3.7",
   "language": "python",
   "name": "python3.7"
  },
  "language_info": {
   "codemirror_mode": {
    "name": "ipython",
    "version": 3
   },
   "file_extension": ".py",
   "mimetype": "text/x-python",
   "name": "python",
   "nbconvert_exporter": "python",
   "pygments_lexer": "ipython3",
   "version": "3.7.2"
  }
 },
 "nbformat": 4,
 "nbformat_minor": 4
}
